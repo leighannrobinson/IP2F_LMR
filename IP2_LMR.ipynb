{
 "cells": [
  {
   "cell_type": "markdown",
   "id": "461904c9",
   "metadata": {},
   "source": [
    "# Individual Project 2: Working with NumPy\n",
    "## Leighann Robinson\n",
    "### Version 1\n",
    "#### DS160 SP23"
   ]
  },
  {
   "cell_type": "code",
   "execution_count": 1,
   "id": "e3a6738c",
   "metadata": {},
   "outputs": [],
   "source": [
    "import numpy as np"
   ]
  },
  {
   "cell_type": "markdown",
   "id": "a758f648",
   "metadata": {},
   "source": [
    "### Question 1"
   ]
  },
  {
   "cell_type": "code",
   "execution_count": 2,
   "id": "535da05d",
   "metadata": {},
   "outputs": [
    {
     "data": {
      "text/plain": [
       "array([[10, 20],\n",
       "       [30, 40]])"
      ]
     },
     "execution_count": 2,
     "metadata": {},
     "output_type": "execute_result"
    }
   ],
   "source": [
    "array1=np.array([[10,20],[30,40]])\n",
    "array1"
   ]
  },
  {
   "cell_type": "code",
   "execution_count": 3,
   "id": "5cfe7cb7",
   "metadata": {},
   "outputs": [
    {
     "data": {
      "text/plain": [
       "array([[ 8, 22],\n",
       "       [28, 42]], dtype=int32)"
      ]
     },
     "execution_count": 3,
     "metadata": {},
     "output_type": "execute_result"
    }
   ],
   "source": [
    "# Square every element of the array\n",
    "a=array1\n",
    "b=2\n",
    "a^b"
   ]
  },
  {
   "cell_type": "code",
   "execution_count": 4,
   "id": "ba37522b",
   "metadata": {},
   "outputs": [
    {
     "data": {
      "text/plain": [
       "array([[110, 120],\n",
       "       [130, 140]])"
      ]
     },
     "execution_count": 4,
     "metadata": {},
     "output_type": "execute_result"
    }
   ],
   "source": [
    "# Add 100 to every element of the array\n",
    "a=array1\n",
    "c=100\n",
    "a+c"
   ]
  },
  {
   "cell_type": "code",
   "execution_count": 5,
   "id": "e10a5776",
   "metadata": {},
   "outputs": [
    {
     "data": {
      "text/plain": [
       "array([[ 50, 100],\n",
       "       [150, 200]])"
      ]
     },
     "execution_count": 5,
     "metadata": {},
     "output_type": "execute_result"
    }
   ],
   "source": [
    "# Multiply every element of the array by 5\n",
    "a=array1\n",
    "d=5\n",
    "a*d"
   ]
  },
  {
   "cell_type": "code",
   "execution_count": 6,
   "id": "51481041",
   "metadata": {},
   "outputs": [
    {
     "data": {
      "text/plain": [
       "array([[3.16227766, 4.47213595],\n",
       "       [5.47722558, 6.32455532]])"
      ]
     },
     "execution_count": 6,
     "metadata": {},
     "output_type": "execute_result"
    }
   ],
   "source": [
    "# Calculate the square root of each element in the array\n",
    "np.sqrt(a)"
   ]
  },
  {
   "cell_type": "markdown",
   "id": "ed60d295",
   "metadata": {},
   "source": [
    "### Question 2"
   ]
  },
  {
   "cell_type": "code",
   "execution_count": 7,
   "id": "664c0204",
   "metadata": {},
   "outputs": [
    {
     "data": {
      "text/plain": [
       "array([ 3,  6,  9, 12, 15, 18, 21, 24, 27])"
      ]
     },
     "execution_count": 7,
     "metadata": {},
     "output_type": "execute_result"
    }
   ],
   "source": [
    "# Create a 3-by-3 array containing integers from 3 to 27 in multiples of 3\n",
    "array2=np.arange(3,30,3)\n",
    "array2"
   ]
  },
  {
   "cell_type": "code",
   "execution_count": 8,
   "id": "1dbd6a48",
   "metadata": {},
   "outputs": [
    {
     "data": {
      "text/plain": [
       "array([10.  , 11.25, 12.5 , 13.75, 15.  , 16.25, 17.5 , 18.75, 20.  ])"
      ]
     },
     "execution_count": 8,
     "metadata": {},
     "output_type": "execute_result"
    }
   ],
   "source": [
    "# Create a second 3-by-3 array with 9 elements evenly spaced between 10 and 20\n",
    "array3=np.linspace(10,20,9)\n",
    "array3"
   ]
  },
  {
   "cell_type": "code",
   "execution_count": 9,
   "id": "732cfb2d",
   "metadata": {},
   "outputs": [
    {
     "data": {
      "text/plain": [
       "array([ 30. ,  67.5, 112.5, 165. , 225. , 292.5, 367.5, 450. , 540. ])"
      ]
     },
     "execution_count": 9,
     "metadata": {},
     "output_type": "execute_result"
    }
   ],
   "source": [
    "# Multiply these arrays together and display the output\n",
    "array4=array2*array3\n",
    "array4"
   ]
  },
  {
   "cell_type": "markdown",
   "id": "fcc3f63a",
   "metadata": {},
   "source": [
    "### Question 3 "
   ]
  },
  {
   "cell_type": "code",
   "execution_count": 10,
   "id": "5c4aad35",
   "metadata": {},
   "outputs": [],
   "source": [
    "# Attached to the assignment are five .npy files that contain five values each\n",
    "## Read these files in and stack them into a unified dataset \n",
    "### This would be a 5-by-5 NumPy array "
   ]
  },
  {
   "cell_type": "code",
   "execution_count": 11,
   "id": "df58411e",
   "metadata": {},
   "outputs": [],
   "source": [
    "import numpy as np\n",
    "p1=np.load('process1.npy')\n",
    "p2=np.load('process2.npy')\n",
    "p3=np.load('process3.npy')\n",
    "p4=np.load('process4.npy')\n",
    "p5=np.load('process5.npy')"
   ]
  },
  {
   "cell_type": "code",
   "execution_count": 12,
   "id": "288646f4",
   "metadata": {},
   "outputs": [],
   "source": [
    "process_array=np.vstack((p1,p2,p3,p4,p5))"
   ]
  },
  {
   "cell_type": "code",
   "execution_count": 13,
   "id": "bed1086b",
   "metadata": {},
   "outputs": [
    {
     "data": {
      "text/plain": [
       "array([[52, 12, 81,  0, 58],\n",
       "       [96,  4, 61, 16, 43],\n",
       "       [38, 96, 45, 17, 58],\n",
       "       [97, 21, 22, 25,  6],\n",
       "       [77,  6, 19,  2, 74]])"
      ]
     },
     "execution_count": 13,
     "metadata": {},
     "output_type": "execute_result"
    }
   ],
   "source": [
    "process_array"
   ]
  },
  {
   "cell_type": "code",
   "execution_count": 14,
   "id": "fa704f39",
   "metadata": {},
   "outputs": [
    {
     "data": {
      "text/plain": [
       "array([72. , 27.8, 45.6, 12. , 47.8])"
      ]
     },
     "execution_count": 14,
     "metadata": {},
     "output_type": "execute_result"
    }
   ],
   "source": [
    "# calculate the mean of each column of data\n",
    "np.mean(process_array, axis=0)"
   ]
  },
  {
   "cell_type": "code",
   "execution_count": 15,
   "id": "cade06c6",
   "metadata": {},
   "outputs": [
    {
     "name": "stdout",
     "output_type": "stream",
     "text": [
      "Means of Each Column of Data:  [72.  27.8 45.6 12.  47.8]\n"
     ]
    }
   ],
   "source": [
    "print(\"Means of Each Column of Data: \", np.mean(process_array, axis=0))"
   ]
  },
  {
   "cell_type": "code",
   "execution_count": null,
   "id": "5cf8023a",
   "metadata": {},
   "outputs": [],
   "source": []
  }
 ],
 "metadata": {
  "kernelspec": {
   "display_name": "Python 3 (ipykernel)",
   "language": "python",
   "name": "python3"
  },
  "language_info": {
   "codemirror_mode": {
    "name": "ipython",
    "version": 3
   },
   "file_extension": ".py",
   "mimetype": "text/x-python",
   "name": "python",
   "nbconvert_exporter": "python",
   "pygments_lexer": "ipython3",
   "version": "3.9.12"
  }
 },
 "nbformat": 4,
 "nbformat_minor": 5
}
